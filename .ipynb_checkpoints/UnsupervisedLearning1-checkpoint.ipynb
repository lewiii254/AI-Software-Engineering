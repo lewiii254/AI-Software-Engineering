{
 "cells": [
  {
   "cell_type": "code",
   "execution_count": null,
   "id": "c8c7506b-ce0d-4471-9839-71061bb80ec2",
   "metadata": {},
   "outputs": [],
   "source": [
    "# Import necessary libraries\n",
    "\n",
    "from sklearn.datasets import load_iris\n",
    "\n",
    "from sklearn.cluster import KMeans\n",
    "\n",
    "import matplotlib.pyplot as plt\n",
    "\n",
    " \n",
    "\n",
    "# Load the Iris dataset\n",
    "\n",
    "iris = load_iris()\n",
    "\n",
    "X = iris.data\n",
    "\n",
    " \n",
    "\n",
    "# Create and train the KMeans model\n",
    "\n",
    "kmeans = KMeans(n_clusters=3, random_state=42)\n",
    "\n",
    "kmeans.fit(X)\n",
    "\n",
    " \n",
    "\n",
    "# Get the cluster labels\n",
    "\n",
    "labels = kmeans.labels_\n",
    "\n",
    " \n",
    "\n",
    "# Visualize the clusters\n",
    "\n",
    "plt.scatter(X[:, 0], X[:, 1], c=labels, cmap='viridis')\n",
    "\n",
    "plt.xlabel('Sepal Length')\n",
    "\n",
    "plt.ylabel('Sepal Width')\n",
    "\n",
    "plt.title('KMeans Clustering on Iris Dataset')\n",
    "\n",
    "plt.show()"
   ]
  }
 ],
 "metadata": {
  "kernelspec": {
   "display_name": "Python 3 (ipykernel)",
   "language": "python",
   "name": "python3"
  },
  "language_info": {
   "codemirror_mode": {
    "name": "ipython",
    "version": 3
   },
   "file_extension": ".py",
   "mimetype": "text/x-python",
   "name": "python",
   "nbconvert_exporter": "python",
   "pygments_lexer": "ipython3",
   "version": "3.12.7"
  }
 },
 "nbformat": 4,
 "nbformat_minor": 5
}
